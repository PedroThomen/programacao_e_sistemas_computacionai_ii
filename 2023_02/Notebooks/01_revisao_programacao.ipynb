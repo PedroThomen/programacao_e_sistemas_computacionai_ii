{
 "cells": [
  {
   "attachments": {},
   "cell_type": "markdown",
   "metadata": {},
   "source": [
    "### Tarefa\n",
    "\n",
    "Dado um inteiro, ***n,*** performe as seguintes ações condicionais:\n",
    "\n",
    "- Se n é ímpar, imprima “Ímpar”\n",
    "- Se n é par e está no intervalo entre 2 e 5 (inclusive), imprima “Não Estranho”\n",
    "- Se n é par e está no intervalo entre 6 e 20 (inclusive), imprima “Estranho”\n",
    "- Se n é par e maior que 20, imprima “Não estranho”\n",
    "\n",
    "### Input\n",
    "\n",
    "Uma simples linha contendo um número inteiro\n",
    "\n",
    "## Limitações\n",
    "\n",
    "$$1 \\le n \\le 100$$"
   ]
  },
  {
   "attachments": {},
   "cell_type": "markdown",
   "metadata": {},
   "source": []
  },
  {
   "cell_type": "code",
   "execution_count": 3,
   "metadata": {},
   "outputs": [
    {
     "name": "stdout",
     "output_type": "stream",
     "text": [
      "pedro\n"
     ]
    }
   ],
   "source": [
    "#criando uma variavel \n",
    "\n",
    "numero = input() # funcao imput recebe um valor do usuario\n",
    "print(numero)"
   ]
  },
  {
   "cell_type": "code",
   "execution_count": 5,
   "metadata": {},
   "outputs": [
    {
     "name": "stdout",
     "output_type": "stream",
     "text": [
      "10\n"
     ]
    }
   ],
   "source": [
    "#ter certeza que o numero é um inteiro \n",
    "\n",
    "numero = int(input()) # Uso a função int para transformar o input\n",
    "print(numero)"
   ]
  },
  {
   "cell_type": "code",
   "execution_count": 6,
   "metadata": {},
   "outputs": [
    {
     "name": "stdout",
     "output_type": "stream",
     "text": [
      "1.0\n"
     ]
    }
   ],
   "source": [
    "#ter certeza que e um decimal\n",
    "numero_decimal = float(input()) # Uso a função float para transformar o input\n",
    "print(numero_decimal)"
   ]
  },
  {
   "cell_type": "code",
   "execution_count": 7,
   "metadata": {},
   "outputs": [
    {
     "name": "stdout",
     "output_type": "stream",
     "text": [
      "1\n"
     ]
    }
   ],
   "source": [
    "#ter certeza que e um nome  \n",
    "nome = str(input()) # Uso a função str para transformar o input\n",
    "print(nome)"
   ]
  },
  {
   "cell_type": "code",
   "execution_count": 11,
   "metadata": {},
   "outputs": [
    {
     "name": "stdout",
     "output_type": "stream",
     "text": [
      "510\n",
      "0\n"
     ]
    }
   ],
   "source": [
    "#ter certeza que o numero é um inteiro \n",
    "\n",
    "numero = int(input(\"Digite um numero inteir: \")) # Uso a função int para transformar o input\n",
    "\n",
    "print(numero) # imprimo o numero\n",
    "resultado_divisao = numero % 2 #uso operador para pegar o resto\n",
    "print (resultado_divisao) #imprimo o resultado"
   ]
  },
  {
   "cell_type": "code",
   "execution_count": 12,
   "metadata": {},
   "outputs": [
    {
     "name": "stdout",
     "output_type": "stream",
     "text": [
      "11\n",
      "1\n",
      "impar\n"
     ]
    }
   ],
   "source": [
    "#ter certeza que o numero é um inteiro \n",
    "\n",
    "numero = int(input(\"Digite um numero inteir: \")) # Uso a função int para transformar o input\n",
    "\n",
    "print(numero) # imprimo o numero\n",
    "resultado_divisao = numero % 2 #uso operador para pegar o resto\n",
    "print (resultado_divisao) #imprimo o resultado\n",
    "\n",
    "#crio uma condição\n",
    "if resultado_divisao == 0 :\n",
    "    print(\"par\")\n",
    "else:\n",
    "    print(\"impar\")    "
   ]
  },
  {
   "cell_type": "code",
   "execution_count": 13,
   "metadata": {},
   "outputs": [
    {
     "name": "stdout",
     "output_type": "stream",
     "text": [
      "True\n"
     ]
    }
   ],
   "source": [
    "print (resultado_divisao == 1)"
   ]
  },
  {
   "cell_type": "code",
   "execution_count": 14,
   "metadata": {},
   "outputs": [
    {
     "name": "stdout",
     "output_type": "stream",
     "text": [
      "12\n",
      "0\n",
      "par\n"
     ]
    }
   ],
   "source": [
    "#ter certeza que o numero é um inteiro \n",
    "\n",
    "numero = int(input(\"Digite um numero inteir: \")) # Uso a função int para transformar o input\n",
    "\n",
    "print(numero) # imprimo o numero\n",
    "resultado_divisao = numero % 2 #uso operador para pegar o resto\n",
    "print (resultado_divisao) #imprimo o resultado\n",
    "\n",
    "#crio uma condição\n",
    "if resultado_divisao:\n",
    "    print(\"impar\")\n",
    "else:\n",
    "    print(\"par\")    "
   ]
  },
  {
   "cell_type": "code",
   "execution_count": 15,
   "metadata": {},
   "outputs": [
    {
     "name": "stdout",
     "output_type": "stream",
     "text": [
      "0\n",
      "False\n"
     ]
    }
   ],
   "source": [
    "print(resultado_divisao)\n",
    "print(resultado_divisao == 1 )"
   ]
  },
  {
   "cell_type": "code",
   "execution_count": 16,
   "metadata": {},
   "outputs": [
    {
     "name": "stdout",
     "output_type": "stream",
     "text": [
      "23\n",
      "1\n",
      "impar\n"
     ]
    }
   ],
   "source": [
    "#ter certeza que o numero é um inteiro \n",
    "\n",
    "numero = int(input(\"Digite um numero inteir: \")) # Uso a função int para transformar o input\n",
    "\n",
    "print(numero) # imprimo o numero\n",
    "resultado_divisao = numero % 2 #uso operador para pegar o resto\n",
    "print (resultado_divisao) #imprimo o resultado\n",
    "\n",
    "#crio uma condição - resolucao do segundo item\n",
    "if (resultado_divisao):\n",
    "    print(\"impar\")\n",
    "else:\n",
    "    if(nuemro <= 5 and numero >= 2):\n",
    "        pint (\"Não Estranho\")    "
   ]
  },
  {
   "cell_type": "code",
   "execution_count": null,
   "metadata": {},
   "outputs": [],
   "source": []
  }
 ],
 "metadata": {
  "kernelspec": {
   "display_name": "Python 3",
   "language": "python",
   "name": "python3"
  },
  "language_info": {
   "codemirror_mode": {
    "name": "ipython",
    "version": 3
   },
   "file_extension": ".py",
   "mimetype": "text/x-python",
   "name": "python",
   "nbconvert_exporter": "python",
   "pygments_lexer": "ipython3",
   "version": "3.9.13"
  },
  "orig_nbformat": 4
 },
 "nbformat": 4,
 "nbformat_minor": 2
}
